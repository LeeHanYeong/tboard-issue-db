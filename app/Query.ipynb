{
 "cells": [
  {
   "cell_type": "code",
   "execution_count": 1,
   "metadata": {},
   "outputs": [],
   "source": [
    "from itertools import cycle\n",
    "\n",
    "from django.test import TestCase\n",
    "from model_bakery import baker\n",
    "\n",
    "from issues.models import Issue, Task"
   ]
  },
  {
   "cell_type": "code",
   "execution_count": 2,
   "metadata": {},
   "outputs": [],
   "source": [
    "\n",
    "\n",
    "if not Issue.objects.exists():\n",
    "    issue_set = baker.make(Issue, _quantity=100)\n",
    "    root_task_set = baker.make(Task, issue=cycle(issue_set), _quantity=150)\n",
    "    for root_task in root_task_set:\n",
    "        for i in range(ran)\n",
    "        child1 = baker.make(Task, issue=root_task.issue, parent=root_task)\n",
    "        child2 = baker.make(Task, issue=root_task.issue, parent=child1)\n",
    "        child3 = baker.make(Task, issue=root_task.issue, parent=child2)\n",
    "        child4 = baker.make(Task, issue=root_task.issue, parent=child3)"
   ]
  },
  {
   "cell_type": "code",
   "execution_count": 3,
   "metadata": {},
   "outputs": [],
   "source": [
    "import signal\n",
    "from contextlib import contextmanager\n",
    "\n",
    "class TimeoutException(Exception):\n",
    "    pass\n",
    "\n",
    "\n",
    "@contextmanager\n",
    "def time_limit(seconds):\n",
    "    def signal_handler(signum, frame):\n",
    "        raise TimeoutException()\n",
    "\n",
    "    signal.signal(signal.SIGALRM, signal_handler)\n",
    "    signal.alarm(seconds)\n",
    "    try:\n",
    "        yield\n",
    "    finally:\n",
    "        signal.alarm(0)"
   ]
  },
  {
   "cell_type": "code",
   "execution_count": 4,
   "metadata": {},
   "outputs": [],
   "source": [
    "from django.db.models import Count\n",
    "\n",
    "issues = Issue.objects.select_related(\n",
    "    'merchant',\n",
    ").prefetch_related(\n",
    "    'task_set',\n",
    "    'task_set__child_set',\n",
    "    'task_set__parent',\n",
    ").annotate(\n",
    "    task_count=Count('task'),\n",
    ")\n",
    "\n",
    "    "
   ]
  },
  {
   "cell_type": "code",
   "execution_count": 6,
   "metadata": {},
   "outputs": [
    {
     "data": {
      "text/plain": [
       "<TreeQuerySet [<Task: Task object (32202)>, <Task: Task object (30601)>, <Task: Task object (32201)>, <Task: Task object (33401)>, <Task: Task object (34601)>, <Task: Task object (34603)>, <Task: Task object (33802)>, <Task: Task object (30201)>, <Task: Task object (32602)>, <Task: Task object (31001)>, <Task: Task object (33803)>, <Task: Task object (31802)>, <Task: Task object (32601)>, <Task: Task object (34202)>, <Task: Task object (31402)>, <Task: Task object (31002)>, <Task: Task object (34204)>, <Task: Task object (31803)>, <Task: Task object (34604)>, <Task: Task object (31804)>, '...(remaining elements truncated)...']>"
      ]
     },
     "execution_count": 6,
     "metadata": {},
     "output_type": "execute_result"
    }
   ],
   "source": [
    "issue = issues[0]\n",
    "issue.task_set.all()"
   ]
  },
  {
   "cell_type": "code",
   "execution_count": null,
   "metadata": {},
   "outputs": [],
   "source": []
  }
 ],
 "metadata": {
  "kernelspec": {
   "display_name": "Django Shell-Plus",
   "language": "python",
   "name": "django_extensions"
  },
  "language_info": {
   "codemirror_mode": {
    "name": "ipython",
    "version": 3
   },
   "file_extension": ".py",
   "mimetype": "text/x-python",
   "name": "python",
   "nbconvert_exporter": "python",
   "pygments_lexer": "ipython3",
   "version": "3.8.2"
  }
 },
 "nbformat": 4,
 "nbformat_minor": 4
}
